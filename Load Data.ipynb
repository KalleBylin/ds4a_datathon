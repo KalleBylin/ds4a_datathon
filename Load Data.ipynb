{
 "cells": [
  {
   "cell_type": "code",
   "execution_count": 1,
   "metadata": {},
   "outputs": [],
   "source": [
    "import numpy as np\n",
    "import pandas as pd\n",
    "\n",
    "import os\n",
    "import gzip\n",
    "import glob"
   ]
  },
  {
   "cell_type": "code",
   "execution_count": 2,
   "metadata": {},
   "outputs": [
    {
     "data": {
      "text/plain": [
       "['.ipynb_checkpoints', 'Dataset', '__MACOSX']"
      ]
     },
     "execution_count": 2,
     "metadata": {},
     "output_type": "execute_result"
    }
   ],
   "source": [
    "os.listdir('../Dataset')"
   ]
  },
  {
   "cell_type": "code",
   "execution_count": null,
   "metadata": {},
   "outputs": [],
   "source": [
    "for file in glob.glob('../Dataset/*.csv.gz'):\n",
    "    with gzip.open(file, 'rt') as f:\n",
    "        data = f.read()\n",
    "        with open(file[:-3], 'wt') as f:\n",
    "            f.write(data)"
   ]
  },
  {
   "cell_type": "code",
   "execution_count": null,
   "metadata": {},
   "outputs": [],
   "source": [
    "dmgr = pd.read_csv('../Dataset/demographics.csv')\n",
    "green = pd.read_csv('../Dataset/green_trips.csv')\n",
    "mta = pd.read_csv('../Dataset/mta_trips.csv')\n",
    "uber_2014 = pd.read_csv('../Dataset/uber_trips_2014.csv')\n",
    "uber_2015 = pd.read_csv('../Dataset/uber_trips_2015.csv')\n",
    "geo = pd.read_csv('../Dataset/geographic.csv')\n",
    "weather = pd.read_csv('../Dataset/weather.csv')\n",
    "yellow = pd.read_csv('../Dataset/yellow_trips.csv')\n",
    "zones = pd.read_csv('../Dataset/zones.csv')"
   ]
  },
  {
   "cell_type": "code",
   "execution_count": null,
   "metadata": {},
   "outputs": [],
   "source": []
  }
 ],
 "metadata": {
  "kernelspec": {
   "display_name": "Python 3",
   "language": "python",
   "name": "python3"
  },
  "language_info": {
   "codemirror_mode": {
    "name": "ipython",
    "version": 3
   },
   "file_extension": ".py",
   "mimetype": "text/x-python",
   "name": "python",
   "nbconvert_exporter": "python",
   "pygments_lexer": "ipython3",
   "version": "3.7.3"
  }
 },
 "nbformat": 4,
 "nbformat_minor": 4
}
